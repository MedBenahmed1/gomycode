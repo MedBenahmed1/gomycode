{
  "cells": [
    {
      "cell_type": "code",
      "execution_count": null,
      "id": "31183470",
      "metadata": {
        "id": "31183470",
        "outputId": "1a563024-6b7d-42cd-de43-b8672693d2f9"
      },
      "outputs": [
        {
          "name": "stdout",
          "output_type": "stream",
          "text": [
            "orange\n",
            "3\n",
            "['ananas', 'orange', 'banane', 'kiwi', 'pomme']\n",
            "['fraise', 'orange', 'banane', 'kiwi', 'pomme']\n",
            "['orange', 'banane', 'kiwi', 'pomme']\n",
            "['banane', 'kiwi', 'pomme']\n",
            "[]\n"
          ]
        }
      ],
      "source": [
        "#les listes\n",
        "fruits=[\"orange\",\"banane\",\"kiwi\"]\n",
        "#accèder a une valeur\n",
        "print(fruits[0])\n",
        "#longueur de la liste\n",
        "print(len(fruits))\n",
        "#ajouter a la fin de la liste\n",
        "fruits.append(\"pomme\")\n",
        "#ajouter a la position 0\n",
        "fruits.insert(0,\"ananas\")\n",
        "print(fruits)\n",
        "#modification d'un élément\n",
        "fruits[0]=\"fraise\"\n",
        "print(fruits)\n",
        "#suppression d'un élément\n",
        "fruits.remove(\"fraise\")  #suppression par valeur\n",
        "print(fruits)\n",
        "del fruits[0]  #suppression par indice\n",
        "print(fruits)\n",
        "#declarer une liste vide\n",
        "liste =list()\n",
        "print(liste)"
      ]
    },
    {
      "cell_type": "code",
      "execution_count": null,
      "id": "856615f1",
      "metadata": {
        "id": "856615f1",
        "outputId": "b3243e40-95cc-4adf-c8dd-8d2cfa2e9b3c"
      },
      "outputs": [
        {
          "name": "stdout",
          "output_type": "stream",
          "text": [
            "amine\n",
            "{'nom': 'amine', 'prénom': 'hafidhi', 'age': 15, 'profession': 'étudiant'}\n",
            "{'nom': 'amine', 'prénom': 'hafidhi', 'age': 15}\n"
          ]
        }
      ],
      "source": [
        "#les dictionnaires\n",
        "personne = {\"nom\":\"amine\",\"prénom\":\"hafidhi\",\"age\":15}\n",
        "#accéder a une valeur\n",
        "print(personne[\"nom\"])\n",
        "#ajouter un élément\n",
        "personne[\"profession\"]=\"étudiant\"\n",
        "print(personne)\n",
        "#suppression\n",
        "personne.pop(\"profession\") #supprimer l'élement et afficher sa valeur\n",
        "print(personne)"
      ]
    },
    {
      "cell_type": "code",
      "execution_count": null,
      "id": "392bb397",
      "metadata": {
        "id": "392bb397",
        "outputId": "5b678c68-ec51-4946-bd32-e7d3ae201fbf"
      },
      "outputs": [
        {
          "name": "stdout",
          "output_type": "stream",
          "text": [
            "{'banane', 'kiwi', 'orange'}\n",
            "{'banane', 'pomme', 'kiwi', 'orange'}\n",
            "{'pomme', 'kiwi', 'orange'}\n"
          ]
        }
      ],
      "source": [
        "#les sets\n",
        "set1={\"orange\",\"banane\",\"kiwi\"}\n",
        "print(set1)\n",
        "#ajouter un élément\n",
        "set1.add(\"pomme\")\n",
        "print(set1)\n",
        "#supprimer un élément\n",
        "set1.remove(\"banane\")\n",
        "print(set1)"
      ]
    },
    {
      "cell_type": "code",
      "execution_count": null,
      "id": "7dfdd189",
      "metadata": {
        "id": "7dfdd189",
        "outputId": "0cc5ccad-f6c5-4adb-ccb9-e595ad439315"
      },
      "outputs": [
        {
          "data": {
            "text/plain": [
              "('orange', 'banane', 'pomme', 'kiwi', 'ananas')"
            ]
          },
          "execution_count": 19,
          "metadata": {},
          "output_type": "execute_result"
        }
      ],
      "source": [
        "#les tuples\n",
        "tuple1=(\"orange\",\"banane\")\n",
        "tuple2=(\"pomme\",\"kiwi\",\"ananas\")\n",
        "tuple3=tuple1+tuple2\n",
        "tuple3"
      ]
    },
    {
      "cell_type": "code",
      "execution_count": null,
      "id": "0f5a45f4",
      "metadata": {
        "id": "0f5a45f4",
        "outputId": "710ee5c8-bc2b-44f7-9f95-093737c25cfe"
      },
      "outputs": [
        {
          "name": "stdout",
          "output_type": "stream",
          "text": [
            "36\n"
          ]
        }
      ],
      "source": [
        "#checkpoint1\n",
        "# Write a Python program that multiplies all the items in a list.\n",
        "my_liste= [2, 3, 6]\n",
        "s=1\n",
        "for i in my_liste:\n",
        "    s=s*i\n",
        "print(s)"
      ]
    },
    {
      "cell_type": "code",
      "execution_count": null,
      "id": "4a2e960c",
      "metadata": {
        "id": "4a2e960c"
      },
      "outputs": [],
      "source": []
    }
  ],
  "metadata": {
    "kernelspec": {
      "display_name": "Python 3 (ipykernel)",
      "language": "python",
      "name": "python3"
    },
    "language_info": {
      "codemirror_mode": {
        "name": "ipython",
        "version": 3
      },
      "file_extension": ".py",
      "mimetype": "text/x-python",
      "name": "python",
      "nbconvert_exporter": "python",
      "pygments_lexer": "ipython3",
      "version": "3.11.5"
    },
    "colab": {
      "provenance": []
    }
  },
  "nbformat": 4,
  "nbformat_minor": 5
}