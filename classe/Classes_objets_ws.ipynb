{
  "cells": [
    {
      "cell_type": "code",
      "execution_count": null,
      "id": "d19ae66d",
      "metadata": {
        "id": "d19ae66d",
        "outputId": "74ea06ce-e6af-405c-da36-54f88a333a1c"
      },
      "outputs": [
        {
          "name": "stdout",
          "output_type": "stream",
          "text": [
            "5\n"
          ]
        }
      ],
      "source": [
        "#créer une classe\n",
        "class Myclass :\n",
        "    x=5\n",
        "#instancier un objet\n",
        "c1=Myclass()\n",
        "print(c1.x)"
      ]
    },
    {
      "cell_type": "code",
      "execution_count": null,
      "id": "1af65ee2",
      "metadata": {
        "id": "1af65ee2",
        "outputId": "59de4142-8a2d-4b74-db2e-3b6bf25d375e"
      },
      "outputs": [
        {
          "name": "stdout",
          "output_type": "stream",
          "text": [
            "je suis  Ben Ahmed Mohamed\n",
            "je suis  Ben Hassen Mohamed\n",
            "je suis  Hafidhi Amine\n",
            "True\n"
          ]
        }
      ],
      "source": [
        "class Personne:\n",
        "    #méthode d'initialisation\n",
        "    def __init__(self,nom,prenom,age):\n",
        "        self.nom=nom\n",
        "        self.prenom=prenom\n",
        "        self.age=age\n",
        "\n",
        "    #création d'une méthode d'affichage\n",
        "    def affiche(self):\n",
        "        print (\"je suis \",self.nom , self.prenom )\n",
        "\n",
        "#héritage\n",
        "class Client(Personne):\n",
        "    is_client=True\n",
        "\n",
        "p1=Personne(\"Ben Ahmed\",\"Mohamed\",\"20\")\n",
        "p1.affiche()\n",
        "p1.nom=\"Ben Hassen\"\n",
        "p1.affiche()\n",
        "\n",
        "p2=Client(\"Hafidhi\",\"Amine\",51)\n",
        "p2.affiche()\n",
        "print(p2.is_client)"
      ]
    },
    {
      "cell_type": "code",
      "execution_count": null,
      "id": "75d82c31",
      "metadata": {
        "id": "75d82c31"
      },
      "outputs": [],
      "source": []
    }
  ],
  "metadata": {
    "kernelspec": {
      "display_name": "Python 3 (ipykernel)",
      "language": "python",
      "name": "python3"
    },
    "language_info": {
      "codemirror_mode": {
        "name": "ipython",
        "version": 3
      },
      "file_extension": ".py",
      "mimetype": "text/x-python",
      "name": "python",
      "nbconvert_exporter": "python",
      "pygments_lexer": "ipython3",
      "version": "3.11.5"
    },
    "colab": {
      "provenance": []
    }
  },
  "nbformat": 4,
  "nbformat_minor": 5
}