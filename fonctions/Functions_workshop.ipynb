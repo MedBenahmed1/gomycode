{
  "cells": [
    {
      "cell_type": "markdown",
      "source": [
        "Let's build FUNCTIONS"
      ],
      "metadata": {
        "id": "cQahzjpsVOQY"
      },
      "id": "cQahzjpsVOQY"
    },
    {
      "cell_type": "code",
      "execution_count": null,
      "id": "cbe6f6aa",
      "metadata": {
        "id": "cbe6f6aa",
        "outputId": "7f507f57-b071-49a3-95b0-99f261c8c4d3"
      },
      "outputs": [
        {
          "name": "stdout",
          "output_type": "stream",
          "text": [
            "1\n",
            "12\n"
          ]
        }
      ],
      "source": [
        "#fonctions prédéfinies\n",
        "liste=[8,4,3,9,12,1]\n",
        "#min_function (retourner le minimum dans la liste)\n",
        "minim=min(liste)\n",
        "print(minim)\n",
        "#max_function (retourner le maximum dans la liste)\n",
        "maxim=max(liste)\n",
        "print(maxim)"
      ]
    },
    {
      "cell_type": "code",
      "execution_count": null,
      "id": "f2553fd9",
      "metadata": {
        "colab": {
          "base_uri": "https://localhost:8080/"
        },
        "id": "f2553fd9",
        "outputId": "c006cb4f-9829-4192-d35f-048d30cd969c"
      },
      "outputs": [
        {
          "output_type": "stream",
          "name": "stdout",
          "text": [
            "['17', '06', '1990']\n",
            "17:06:1990\n"
          ]
        }
      ],
      "source": [
        "#split_function\n",
        "ch=\"17-06-1990\"\n",
        "liste1=ch.split(\"-\")\n",
        "print(liste1)\n",
        "#join_function\n",
        "ch1=\":\".join(liste1)\n",
        "print(ch1)"
      ]
    },
    {
      "cell_type": "code",
      "execution_count": null,
      "id": "319bcf74",
      "metadata": {
        "id": "319bcf74",
        "outputId": "2ebf4077-42d8-47e5-a9d1-06671eeb8cca"
      },
      "outputs": [
        {
          "name": "stdout",
          "output_type": "stream",
          "text": [
            "hello world\n"
          ]
        }
      ],
      "source": [
        "#fonction pour afficher un msg\n",
        "#définir la fonction\n",
        "def affiche():\n",
        "    print(\"hello world\")\n",
        "\n",
        "affiche() #appeler la fonction"
      ]
    },
    {
      "cell_type": "code",
      "execution_count": null,
      "id": "2dc9107d",
      "metadata": {
        "id": "2dc9107d",
        "outputId": "e042c9e0-2ea1-4e8a-8df3-c514884f7f13"
      },
      "outputs": [
        {
          "name": "stdout",
          "output_type": "stream",
          "text": [
            "30\n"
          ]
        }
      ],
      "source": [
        "#fonction avec paramètres\n",
        "def multiplication(a,b):   #a et b sont les parametres\n",
        "    return a*b\n",
        "x=multiplication(15,2)\n",
        "print(x)"
      ]
    },
    {
      "cell_type": "code",
      "execution_count": null,
      "id": "6abbf9c6",
      "metadata": {
        "id": "6abbf9c6",
        "outputId": "f0aca443-b01e-42ea-a6b5-fd3bf4dbb1fc"
      },
      "outputs": [
        {
          "name": "stdout",
          "output_type": "stream",
          "text": [
            "mon age est 30\n"
          ]
        }
      ],
      "source": [
        "#fonction avec parametre par défaut\n",
        "def monage(age=20):\n",
        "    print(f\"mon age est {age}\")\n",
        "monage(30)  #appel de la fonction"
      ]
    },
    {
      "cell_type": "code",
      "execution_count": null,
      "id": "dd29ab0e",
      "metadata": {
        "id": "dd29ab0e",
        "outputId": "64306dd9-13a1-4a56-fdd2-3ebcd2c5c2a8"
      },
      "outputs": [
        {
          "data": {
            "text/plain": [
              "60"
            ]
          },
          "execution_count": 12,
          "metadata": {},
          "output_type": "execute_result"
        }
      ],
      "source": [
        "#lambda_function\n",
        "somme= lambda a,b,c : a+b+c\n",
        "somme(10,20,30)"
      ]
    },
    {
      "cell_type": "code",
      "execution_count": null,
      "id": "d758d496",
      "metadata": {
        "id": "d758d496",
        "outputId": "78d5fb35-590f-4ab3-d84e-76c0f8a37d21"
      },
      "outputs": [
        {
          "name": "stdout",
          "output_type": "stream",
          "text": [
            "[6, 4, 6, 6, 6]\n"
          ]
        }
      ],
      "source": [
        "#map_function\n",
        "fruits=[\"banane\",\"kiwi\",\"fraise\",\"ananas\",\"orange\"]\n",
        "def length(ch):\n",
        "    return len(ch)\n",
        "x=list(map(length,fruits))\n",
        "print(x)\n"
      ]
    },
    {
      "cell_type": "code",
      "execution_count": null,
      "id": "11481cb5",
      "metadata": {
        "id": "11481cb5",
        "outputId": "55d24869-db0f-43d1-b88a-3be07696a1bd"
      },
      "outputs": [
        {
          "name": "stdout",
          "output_type": "stream",
          "text": [
            "['ban', 'kiw', 'fra', 'ana', 'ora']\n"
          ]
        }
      ],
      "source": [
        "def first(ch):\n",
        "    return ch[0:3]\n",
        "y=list(map(first,fruits))\n",
        "print(y)"
      ]
    },
    {
      "cell_type": "code",
      "execution_count": null,
      "id": "17674daa",
      "metadata": {
        "id": "17674daa"
      },
      "outputs": [],
      "source": []
    },
    {
      "cell_type": "markdown",
      "source": [],
      "metadata": {
        "id": "iFkXizTeVMxx"
      },
      "id": "iFkXizTeVMxx"
    },
    {
      "cell_type": "code",
      "execution_count": null,
      "id": "c3ac64bf",
      "metadata": {
        "id": "c3ac64bf"
      },
      "outputs": [],
      "source": []
    },
    {
      "cell_type": "code",
      "execution_count": null,
      "id": "139a21d6",
      "metadata": {
        "id": "139a21d6"
      },
      "outputs": [],
      "source": []
    }
  ],
  "metadata": {
    "kernelspec": {
      "display_name": "Python 3 (ipykernel)",
      "language": "python",
      "name": "python3"
    },
    "language_info": {
      "codemirror_mode": {
        "name": "ipython",
        "version": 3
      },
      "file_extension": ".py",
      "mimetype": "text/x-python",
      "name": "python",
      "nbconvert_exporter": "python",
      "pygments_lexer": "ipython3",
      "version": "3.11.5"
    },
    "colab": {
      "provenance": []
    }
  },
  "nbformat": 4,
  "nbformat_minor": 5
}